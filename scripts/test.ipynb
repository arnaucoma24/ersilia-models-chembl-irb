{
 "cells": [
  {
   "cell_type": "code",
   "execution_count": 62,
   "id": "0e7bb578",
   "metadata": {},
   "outputs": [],
   "source": [
    "from rdkit import Chem\n",
    "from rdkit.Chem import rdFingerprintGenerator\n",
    "from rdkit.Chem.Draw import IPythonConsole\n",
    "IPythonConsole.ipython_useSVG = True\n",
    "import numpy as np\n",
    "import os\n",
    "\n",
    "RADIUS = 3\n",
    "NBITS = 2048\n",
    "mfpgen = rdFingerprintGenerator.GetMorganGenerator(radius=RADIUS, fpSize=NBITS)"
   ]
  },
  {
   "cell_type": "code",
   "execution_count": 52,
   "id": "7edb86bf",
   "metadata": {},
   "outputs": [
    {
     "name": "stdout",
     "output_type": "stream",
     "text": [
      "eos5axz_021_tmp\n",
      "eos5axz_064_tmp\n"
     ]
    },
    {
     "name": "stderr",
     "output_type": "stream",
     "text": [
      "[11:50:28] Explicit valence for atom # 19 P, 7, is greater than permitted\n",
      "[11:50:29] Explicit valence for atom # 1 P, 7, is greater than permitted\n"
     ]
    },
    {
     "name": "stdout",
     "output_type": "stream",
     "text": [
      "eos5axz_073_tmp\n"
     ]
    },
    {
     "name": "stderr",
     "output_type": "stream",
     "text": [
      "[11:50:30] Can't kekulize mol.  Unkekulized atoms: 30 31 32 33 34 35 36 37 38 39 40 41 42 43 44 45 46 47 48 49 50 51 52 53 54 55 56 57 58 59 60 61 62 63 64 65 66 67 68 69 70 71 72 73 74 75 76 77\n"
     ]
    },
    {
     "name": "stdout",
     "output_type": "stream",
     "text": [
      "eos5axz_124_tmp\n",
      "eos5axz_141_tmp\n"
     ]
    },
    {
     "name": "stderr",
     "output_type": "stream",
     "text": [
      "[11:50:30] Explicit valence for atom # 1 P, 7, is greater than permitted\n"
     ]
    },
    {
     "name": "stdout",
     "output_type": "stream",
     "text": [
      "eos5axz_159_tmp\n"
     ]
    },
    {
     "name": "stderr",
     "output_type": "stream",
     "text": [
      "[11:50:31] Explicit valence for atom # 3 Ar, 1, is greater than permitted\n",
      "[11:50:31] Explicit valence for atom # 91 P, 7, is greater than permitted\n"
     ]
    },
    {
     "name": "stdout",
     "output_type": "stream",
     "text": [
      "eos5axz_187_tmp\n",
      "eos5axz_199_tmp\n"
     ]
    },
    {
     "name": "stderr",
     "output_type": "stream",
     "text": [
      "[11:50:32] Explicit valence for atom # 16 P, 7, is greater than permitted\n",
      "[11:50:32] Can't kekulize mol.  Unkekulized atoms: 1 2 3 4 5 6 10 11 15 16 17 19 20 21\n"
     ]
    },
    {
     "name": "stdout",
     "output_type": "stream",
     "text": [
      "eos5axz_226_tmp\n",
      "eos5axz_227_tmp\n"
     ]
    },
    {
     "name": "stderr",
     "output_type": "stream",
     "text": [
      "[11:50:32] Explicit valence for atom # 1 As, 7, is greater than permitted\n",
      "[11:50:32] Explicit valence for atom # 13 P, 7, is greater than permitted\n"
     ]
    },
    {
     "name": "stdout",
     "output_type": "stream",
     "text": [
      "eos5axz_238_tmp\n",
      "eos5axz_248_tmp\n"
     ]
    },
    {
     "name": "stderr",
     "output_type": "stream",
     "text": [
      "[11:50:32] Explicit valence for atom # 1 P, 7, is greater than permitted\n",
      "[11:50:32] Explicit valence for atom # 29 P, 7, is greater than permitted\n"
     ]
    },
    {
     "name": "stdout",
     "output_type": "stream",
     "text": [
      "eos5axz_256_tmp\n",
      "eos5axz_262_tmp\n"
     ]
    },
    {
     "name": "stderr",
     "output_type": "stream",
     "text": [
      "[11:50:33] Explicit valence for atom # 1 P, 7, is greater than permitted\n"
     ]
    },
    {
     "name": "stdout",
     "output_type": "stream",
     "text": [
      "eos5axz_266_tmp\n"
     ]
    },
    {
     "name": "stderr",
     "output_type": "stream",
     "text": [
      "[11:50:33] Explicit valence for atom # 1 P, 7, is greater than permitted\n"
     ]
    },
    {
     "name": "stdout",
     "output_type": "stream",
     "text": [
      "eos5axz_273_tmp\n"
     ]
    },
    {
     "name": "stderr",
     "output_type": "stream",
     "text": [
      "[11:50:34] Explicit valence for atom # 34 P, 7, is greater than permitted\n"
     ]
    },
    {
     "name": "stdout",
     "output_type": "stream",
     "text": [
      "eos5axz_277_tmp\n"
     ]
    },
    {
     "name": "stderr",
     "output_type": "stream",
     "text": [
      "[11:50:34] Can't kekulize mol.  Unkekulized atoms: 30 31 32 33 34 35 36 37 38 39 40 41 42 43 44 45 46 47 48 49 50 51 52 53 54 55 56 57 58 59 60 61 62 63 64 65 66 67 68 69 70 71 72 73 74 75 76 77\n"
     ]
    }
   ],
   "source": [
    "FAILED_SMILES = []\n",
    "model = \"eos5axz\"\n",
    "PATH_TO_ALOY = \"/aloy/home/acomajuncosa/Ersilia/ersilia-models-chembl-irb/results\"\n",
    "for directory in sorted(os.listdir(os.path.join(PATH_TO_ALOY, model))):\n",
    "    if os.path.isdir(os.path.join(PATH_TO_ALOY, model, directory)):\n",
    "        print(directory)\n",
    "        results = [i for i in os.listdir(os.path.join(PATH_TO_ALOY, model, directory)) if i.startswith('results')]\n",
    "        results = sorted(results, key = lambda x: int(x.replace(\"results_\", \"\").replace(\".csv\", \"\")))[::-1]\n",
    "        split = f\"split_{int(results[0].replace(\"results_\", \"\").replace(\".csv\", \"\")) + 1}.csv\"\n",
    "        smiles = open(os.path.join(PATH_TO_ALOY, model, directory, split), \"r\").readlines()[1:]\n",
    "        smiles = [i.strip() for i in smiles]\n",
    "        for smi in smiles:\n",
    "            try:\n",
    "                mol = Chem.MolFromSmiles(smi)\n",
    "                fp = mfpgen.GetCountFingerprint(mol)\n",
    "            except:\n",
    "                FAILED_SMILES.append(smi)"
   ]
  },
  {
   "cell_type": "code",
   "execution_count": null,
   "id": "0a9e1e92",
   "metadata": {},
   "outputs": [],
   "source": []
  }
 ],
 "metadata": {
  "kernelspec": {
   "display_name": "ersilia-models-chembl-irb",
   "language": "python",
   "name": "python3"
  },
  "language_info": {
   "codemirror_mode": {
    "name": "ipython",
    "version": 3
   },
   "file_extension": ".py",
   "mimetype": "text/x-python",
   "name": "python",
   "nbconvert_exporter": "python",
   "pygments_lexer": "ipython3",
   "version": "3.12.11"
  }
 },
 "nbformat": 4,
 "nbformat_minor": 5
}
